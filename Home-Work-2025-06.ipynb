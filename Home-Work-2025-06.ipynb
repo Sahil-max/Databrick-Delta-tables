{
 "cells": [
  {
   "cell_type": "code",
   "execution_count": 0,
   "metadata": {
    "application/vnd.databricks.v1+cell": {
     "cellMetadata": {
      "byteLimit": 2048000,
      "implicitDf": true,
      "rowLimit": 10000
     },
     "inputWidgets": {},
     "nuid": "6edf8cdd-557a-4cd5-9e60-c5353f4a2ff4",
     "showTitle": false,
     "tableResultSettingsMap": {},
     "title": ""
    }
   },
   "outputs": [],
   "source": [
    "%sql\n",
    "\n",
    "USE tabular.dataexpert"
   ]
  },
  {
   "cell_type": "code",
   "execution_count": 0,
   "metadata": {
    "application/vnd.databricks.v1+cell": {
     "cellMetadata": {
      "byteLimit": 2048000,
      "rowLimit": 10000
     },
     "inputWidgets": {},
     "nuid": "58542c35-509e-4ff5-a409-a91276987e73",
     "showTitle": false,
     "tableResultSettingsMap": {},
     "title": ""
    }
   },
   "outputs": [],
   "source": [
    "from pyspark.sql import SparkSession\n",
    "from pyspark.sql.functions import monotonically_increasing_id, col, expr\n",
    "from faker import Faker\n",
    "import pandas as pd\n",
    "\n",
    "fake = Faker()\n",
    "spark.sql(\"USE tabular.dataexpert\")\n",
    "\n",
    "# Helper to create synthetic dimension data\n",
    "def create_dim_product(n=10):\n",
    "    data = [{\"product_id\": i+1, \"product_name\": fake.word(), \"price\": round(fake.random_number(digits=3), 2)} for i in range(n)]\n",
    "    return pd.DataFrame(data)\n",
    "\n",
    "def create_dim_category(n=5):\n",
    "    data = [{\"category_id\": i+1, \"category_name\": fake.word()} for i in range(n)]\n",
    "    return pd.DataFrame(data)\n",
    "\n",
    "def create_dim_date(n=20):\n",
    "    data = [{\"date_id\": i+1, \"date\": fake.date_this_decade()} for i in range(n)]\n",
    "    return pd.DataFrame(data)\n",
    "\n",
    "# Create dimension tables\n",
    "spark.sql(\"\"\"\n",
    "CREATE TABLE IF NOT EXISTS dim_product_sahil (\n",
    "    product_id INT,\n",
    "    product_name STRING,\n",
    "    price DOUBLE\n",
    ") USING DELTA\n",
    "\"\"\")\n",
    "\n",
    "spark.sql(\"\"\"\n",
    "CREATE TABLE IF NOT EXISTS dim_category_sahil (\n",
    "    category_id INT,\n",
    "    category_name STRING\n",
    ") USING DELTA\n",
    "\"\"\")\n",
    "\n",
    "spark.sql(\"\"\"\n",
    "CREATE TABLE IF NOT EXISTS dim_date_sahil (\n",
    "    date_id INT,\n",
    "    date DATE\n",
    ") USING DELTA\n",
    "\"\"\")\n",
    "\n",
    "# Create fact table\n",
    "spark.sql(\"\"\"\n",
    "CREATE TABLE IF NOT EXISTS fact_sales_sahil (\n",
    "    sale_id BIGINT GENERATED ALWAYS AS IDENTITY,\n",
    "    product_id INT,\n",
    "    category_id INT,\n",
    "    date_id INT,\n",
    "    quantity INT,\n",
    "    sales_amount DOUBLE,\n",
    "    ts TIMESTAMP\n",
    ") USING DELTA\n",
    "\"\"\")\n"
   ]
  },
  {
   "cell_type": "code",
   "execution_count": 0,
   "metadata": {
    "application/vnd.databricks.v1+cell": {
     "cellMetadata": {
      "byteLimit": 2048000,
      "rowLimit": 10000
     },
     "inputWidgets": {},
     "nuid": "d3549819-c025-4a8b-ac8a-acd03ccaed5d",
     "showTitle": false,
     "tableResultSettingsMap": {},
     "title": ""
    }
   },
   "outputs": [],
   "source": [
    "#print(create_dim_product())\n",
    "print(create_dim_category())\n",
    "#print(create_dim_date())"
   ]
  },
  {
   "cell_type": "code",
   "execution_count": 0,
   "metadata": {
    "application/vnd.databricks.v1+cell": {
     "cellMetadata": {
      "byteLimit": 2048000,
      "rowLimit": 10000
     },
     "inputWidgets": {},
     "nuid": "65fbf2af-b360-4744-9c4f-11a977cddf97",
     "showTitle": false,
     "tableResultSettingsMap": {},
     "title": ""
    }
   },
   "outputs": [],
   "source": [
    "# Insert synthetic data into dimension tables\n",
    "df_product = spark.createDataFrame(create_dim_product(10)).selectExpr(\"CAST(product_id AS INT) AS product_id\", \"product_name\", \"CAST(price AS DOUBLE) AS price\")\n",
    "df_category = spark.createDataFrame(create_dim_category(5)).selectExpr(\"CAST(category_id AS INT) AS category_id\", \"category_name\")\n",
    "df_date = spark.createDataFrame(create_dim_date(20)).selectExpr(\"CAST(date_id AS INT) AS date_id\", \"CAST(date AS DATE) AS date\")\n",
    "\n",
    "df_product.write.format(\"delta\").mode(\"overwrite\").saveAsTable(\"dim_product_sahil\")\n",
    "df_category.write.format(\"delta\").mode(\"overwrite\").saveAsTable(\"dim_category_sahil\")\n",
    "df_date.write.format(\"delta\").mode(\"overwrite\").saveAsTable(\"dim_date_sahil\")\n",
    "\n",
    "\n",
    "# Verify\n",
    "spark.sql(\"SELECT * FROM dim_product_sahil\").show()\n",
    "spark.sql(\"SELECT * FROM dim_category_sahil\").show()\n",
    "spark.sql(\"SELECT * FROM dim_date_sahil\").show()\n"
   ]
  },
  {
   "cell_type": "code",
   "execution_count": 0,
   "metadata": {
    "application/vnd.databricks.v1+cell": {
     "cellMetadata": {
      "byteLimit": 2048000,
      "implicitDf": true,
      "rowLimit": 10000
     },
     "inputWidgets": {},
     "nuid": "2c2e0af6-b99a-47e2-ac8f-f5967d860f53",
     "showTitle": false,
     "tableResultSettingsMap": {},
     "title": ""
    }
   },
   "outputs": [],
   "source": [
    "%sql\n",
    "select * from dim_category_sahil"
   ]
  },
  {
   "cell_type": "code",
   "execution_count": 0,
   "metadata": {
    "application/vnd.databricks.v1+cell": {
     "cellMetadata": {
      "byteLimit": 2048000,
      "implicitDf": true,
      "rowLimit": 10000
     },
     "inputWidgets": {},
     "nuid": "575b1f54-f8c3-4cf1-b1ea-31d23251a929",
     "showTitle": false,
     "tableResultSettingsMap": {},
     "title": ""
    }
   },
   "outputs": [],
   "source": [
    "%sql\n",
    "SELECT * FROM dim_date_sahil"
   ]
  },
  {
   "cell_type": "code",
   "execution_count": 0,
   "metadata": {
    "application/vnd.databricks.v1+cell": {
     "cellMetadata": {
      "byteLimit": 2048000,
      "rowLimit": 10000
     },
     "inputWidgets": {},
     "nuid": "6e3edee5-ed62-4e27-bf15-0040895a1ced",
     "showTitle": false,
     "tableResultSettingsMap": {},
     "title": ""
    }
   },
   "outputs": [],
   "source": [
    "import random\n",
    "from datetime import datetime, timedelta\n",
    "import pandas as pd\n",
    "\n",
    "\n",
    "base_date = datetime.today()\n",
    "dates = [(i, (base_date - timedelta(days=i)).date()) for i in range(1, 21)]\n",
    "\n",
    "# Generate fact data\n",
    "fact_data = []\n",
    "for _ in range(50):\n",
    "    product_id = random.randint(1, 10)\n",
    "    category_id = random.randint(1, 5)\n",
    "    date_id = random.randint(1, 20)\n",
    "    quantity = random.randint(1, 20)\n",
    "    sales_amount = round(quantity * random.uniform(10, 100), 2)\n",
    "    ts = (base_date - timedelta(days=random.randint(0, 20))).strftime('%Y-%m-%d %H:%M:%S')\n",
    "    \n",
    "    \n",
    "    fact_data.append({\n",
    "        \"product_id\": product_id,\n",
    "        \"category_id\": category_id,\n",
    "        \"date_id\": date_id,\n",
    "        \"quantity\": quantity,\n",
    "        \"sales_amount\": sales_amount,\n",
    "        \"ts\": ts\n",
    "    })\n",
    "\n",
    "df_fact = spark.createDataFrame(pd.DataFrame(fact_data)).selectExpr(\n",
    "    \"CAST(product_id AS INT) AS product_id\",\n",
    "    \"CAST(category_id AS INT) AS category_id\",\n",
    "    \"CAST(date_id AS INT) AS date_id\",\n",
    "    \"CAST(quantity AS INT) AS quantity\",\n",
    "    \"CAST(sales_amount AS DOUBLE) AS sales_amount\",\n",
    "    \"CAST(ts AS TIMESTAMP) AS ts\"\n",
    ")\n",
    "spark.sql(\"USE tabular.dataexpert\")\n",
    "df_fact.write.format(\"delta\").mode(\"overwrite\").saveAsTable(\"fact_sales_sahil\")\n",
    "\n",
    "# Verify\n",
    "spark.sql(\"SELECT * FROM fact_sales_sahil\").show()\n"
   ]
  },
  {
   "cell_type": "code",
   "execution_count": 0,
   "metadata": {
    "application/vnd.databricks.v1+cell": {
     "cellMetadata": {
      "byteLimit": 2048000,
      "implicitDf": true,
      "rowLimit": 10000
     },
     "inputWidgets": {},
     "nuid": "96ab284d-0837-48ba-a2b0-76d44af81c56",
     "showTitle": false,
     "tableResultSettingsMap": {},
     "title": ""
    }
   },
   "outputs": [],
   "source": [
    "%sql\n",
    "DESCRIBE DETAIL dim_product_sahil;"
   ]
  },
  {
   "cell_type": "code",
   "execution_count": 0,
   "metadata": {
    "application/vnd.databricks.v1+cell": {
     "cellMetadata": {
      "byteLimit": 2048000,
      "implicitDf": true,
      "rowLimit": 10000
     },
     "inputWidgets": {},
     "nuid": "c8f09cfb-8dfc-4065-b25a-f0dd8fb34963",
     "showTitle": false,
     "tableResultSettingsMap": {},
     "title": ""
    }
   },
   "outputs": [],
   "source": [
    "%sql\n",
    "\n",
    "describe history dim_product_sahil;"
   ]
  },
  {
   "cell_type": "code",
   "execution_count": 0,
   "metadata": {
    "application/vnd.databricks.v1+cell": {
     "cellMetadata": {
      "byteLimit": 2048000,
      "implicitDf": true,
      "rowLimit": 10000
     },
     "inputWidgets": {},
     "nuid": "6cf227ef-458e-47c9-9b80-9e85a5b8cc2a",
     "showTitle": false,
     "tableResultSettingsMap": {},
     "title": ""
    }
   },
   "outputs": [],
   "source": [
    "%sql\n",
    "\n",
    "describe detail dim_category_sahil;"
   ]
  },
  {
   "cell_type": "code",
   "execution_count": 0,
   "metadata": {
    "application/vnd.databricks.v1+cell": {
     "cellMetadata": {
      "byteLimit": 2048000,
      "implicitDf": true,
      "rowLimit": 10000
     },
     "inputWidgets": {},
     "nuid": "26b98adf-3033-48a5-9eba-88e17433f1e1",
     "showTitle": false,
     "tableResultSettingsMap": {},
     "title": ""
    }
   },
   "outputs": [],
   "source": [
    "%sql\n",
    "\n",
    "describe history dim_category_sahil;\n",
    "    \n"
   ]
  },
  {
   "cell_type": "code",
   "execution_count": 0,
   "metadata": {
    "application/vnd.databricks.v1+cell": {
     "cellMetadata": {},
     "inputWidgets": {},
     "nuid": "86917732-9d70-4499-ac5a-ec142a268727",
     "showTitle": false,
     "tableResultSettingsMap": {},
     "title": ""
    }
   },
   "outputs": [],
   "source": []
  },
  {
   "cell_type": "code",
   "execution_count": 0,
   "metadata": {
    "application/vnd.databricks.v1+cell": {
     "cellMetadata": {
      "byteLimit": 2048000,
      "implicitDf": true,
      "rowLimit": 10000
     },
     "inputWidgets": {},
     "nuid": "417ee1f3-b7fe-4464-a274-4054e6186fc1",
     "showTitle": false,
     "tableResultSettingsMap": {},
     "title": ""
    }
   },
   "outputs": [],
   "source": [
    "%sql\n",
    "DESCRIBE DETAIL dim_date_sahil;"
   ]
  },
  {
   "cell_type": "code",
   "execution_count": 0,
   "metadata": {
    "application/vnd.databricks.v1+cell": {
     "cellMetadata": {
      "byteLimit": 2048000,
      "implicitDf": true,
      "rowLimit": 10000
     },
     "inputWidgets": {},
     "nuid": "8ae466d9-9952-4a21-bedb-3a44f417bbd2",
     "showTitle": false,
     "tableResultSettingsMap": {},
     "title": ""
    }
   },
   "outputs": [],
   "source": [
    "%sql\n",
    "\n",
    "describe history dim_date_sahil;"
   ]
  },
  {
   "cell_type": "code",
   "execution_count": 0,
   "metadata": {
    "application/vnd.databricks.v1+cell": {
     "cellMetadata": {
      "byteLimit": 2048000,
      "implicitDf": true,
      "rowLimit": 10000
     },
     "inputWidgets": {},
     "nuid": "8a9aa07d-3c33-4814-9e98-3f504887fd37",
     "showTitle": false,
     "tableResultSettingsMap": {},
     "title": ""
    }
   },
   "outputs": [],
   "source": [
    "%sql\n",
    "DESCRIBE DETAIL fact_sales_sahil;"
   ]
  },
  {
   "cell_type": "code",
   "execution_count": 0,
   "metadata": {
    "application/vnd.databricks.v1+cell": {
     "cellMetadata": {
      "byteLimit": 2048000,
      "implicitDf": true,
      "rowLimit": 10000
     },
     "inputWidgets": {},
     "nuid": "eb851acf-3273-43f8-8e01-725995b3b321",
     "showTitle": false,
     "tableResultSettingsMap": {},
     "title": ""
    }
   },
   "outputs": [],
   "source": [
    "%sql\n",
    "\n",
    "DESCRIBE HISTORY fact_sales_sahil"
   ]
  },
  {
   "cell_type": "code",
   "execution_count": 0,
   "metadata": {
    "application/vnd.databricks.v1+cell": {
     "cellMetadata": {
      "byteLimit": 2048000,
      "implicitDf": true,
      "rowLimit": 10000
     },
     "inputWidgets": {},
     "nuid": "56e2027a-37a9-4b9d-8f2d-16cbdc43088c",
     "showTitle": false,
     "tableResultSettingsMap": {},
     "title": ""
    }
   },
   "outputs": [],
   "source": [
    "%sql\n",
    "\n",
    "LIST 's3://techcreator/dataexpert-databricks/external_storage/schemas/e54ae632-5fbd-4a2a-8b56-e9c9f3f8a77b/tables/8685d5af-2448-4c11-a124-f9694660189a'"
   ]
  },
  {
   "cell_type": "code",
   "execution_count": 0,
   "metadata": {
    "application/vnd.databricks.v1+cell": {
     "cellMetadata": {
      "byteLimit": 2048000,
      "implicitDf": true,
      "rowLimit": 10000
     },
     "inputWidgets": {},
     "nuid": "c07a7011-87e3-499c-83c6-6b3693b56c15",
     "showTitle": false,
     "tableResultSettingsMap": {},
     "title": ""
    }
   },
   "outputs": [],
   "source": [
    "%sql\n",
    "-- Apply Liquid Clustering\n",
    "\n",
    "ALTER TABLE dim_product_sahil CLUSTER BY (product_id);\n",
    "ALTER TABLE dim_category_sahil CLUSTER BY (category_id);\n",
    "ALTER TABLE dim_date_sahil CLUSTER BY (date_id);\n",
    "ALTER TABLE fact_sales_sahil CLUSTER BY (product_id, category_id, date_id, ts);\n"
   ]
  },
  {
   "cell_type": "code",
   "execution_count": 0,
   "metadata": {
    "application/vnd.databricks.v1+cell": {
     "cellMetadata": {
      "byteLimit": 2048000,
      "implicitDf": true,
      "rowLimit": 10000
     },
     "inputWidgets": {},
     "nuid": "3e2a701a-2780-49a5-8200-30f41954843d",
     "showTitle": false,
     "tableResultSettingsMap": {},
     "title": ""
    }
   },
   "outputs": [],
   "source": [
    "%sql\n",
    "DESCRIBE DETAIL dim_product_sahil;"
   ]
  },
  {
   "cell_type": "code",
   "execution_count": 0,
   "metadata": {
    "application/vnd.databricks.v1+cell": {
     "cellMetadata": {
      "byteLimit": 2048000,
      "implicitDf": true,
      "rowLimit": 10000
     },
     "inputWidgets": {},
     "nuid": "c84b8d9c-79f5-4aaa-a684-d77852afac95",
     "showTitle": false,
     "tableResultSettingsMap": {},
     "title": ""
    }
   },
   "outputs": [],
   "source": [
    "%sql\n",
    "\n",
    "drop table dim_category_sahil;\n",
    "drop table dim_date_sahil;\n",
    "drop table dim_product_sahil;\n",
    "drop table fact_sales_sahil;"
   ]
  },
  {
   "cell_type": "code",
   "execution_count": 0,
   "metadata": {
    "application/vnd.databricks.v1+cell": {
     "cellMetadata": {},
     "inputWidgets": {},
     "nuid": "7875f075-c759-449c-859e-d8d29b9b4fdb",
     "showTitle": false,
     "tableResultSettingsMap": {},
     "title": ""
    }
   },
   "outputs": [],
   "source": [
    "DESCRIBE DETAIL dim_product_sahil;"
   ]
  },
  {
   "cell_type": "code",
   "execution_count": 0,
   "metadata": {
    "application/vnd.databricks.v1+cell": {
     "cellMetadata": {
      "byteLimit": 2048000,
      "implicitDf": true,
      "rowLimit": 10000
     },
     "inputWidgets": {},
     "nuid": "65b692b9-8728-49ca-8093-9d9ce0bf5f5c",
     "showTitle": false,
     "tableResultSettingsMap": {},
     "title": ""
    }
   },
   "outputs": [],
   "source": [
    "%sql\n",
    "-- Table Optimization\n",
    "\n",
    "OPTIMIZE dim_product_sahil;\n",
    "OPTIMIZE dim_category_sahil;\n",
    "OPTIMIZE dim_date_sahil;\n",
    "OPTIMIZE fact_sales_sahil;\n"
   ]
  },
  {
   "cell_type": "code",
   "execution_count": 0,
   "metadata": {
    "application/vnd.databricks.v1+cell": {
     "cellMetadata": {
      "byteLimit": 2048000,
      "implicitDf": true,
      "rowLimit": 10000
     },
     "inputWidgets": {},
     "nuid": "f6fbad84-2b58-40b1-a049-38bf968e2388",
     "showTitle": false,
     "tableResultSettingsMap": {},
     "title": ""
    }
   },
   "outputs": [],
   "source": [
    "%sql\n",
    "\n",
    "USE tabular.dataexpert;\n",
    "-- Insert batch 1: Initial synthetic fact data\n",
    "INSERT INTO fact_sales_sahil (product_id, category_id, date_id, quantity, sales_amount, ts) VALUES\n",
    "  (1, 1, 1, 10, 100.0, '2025-06-01 10:00:00'),\n",
    "  (2, 2, 2, 5, 60.0, '2025-06-01 11:00:00'),\n",
    "  (3, 3, 3, 8, 88.0, '2025-06-01 12:00:00');\n",
    "\n",
    "-- Insert batch 2: More synthetic fact data\n",
    "INSERT INTO fact_sales_sahil (product_id, category_id, date_id, quantity, sales_amount, ts) VALUES\n",
    "  (4, 2, 4, 12, 144.0, '2025-06-02 09:00:00'),\n",
    "  (5, 1, 5, 7, 77.0, '2025-06-02 10:30:00');\n",
    "\n",
    "-- Update: Change quantity and sales_amount for one row\n",
    "UPDATE fact_sales_sahil\n",
    "SET quantity = 15, sales_amount = 150.0\n",
    "WHERE product_id = 1 AND category_id = 1 AND date_id = 1;\n",
    "\n",
    "-- Insert batch 3: Even more synthetic fact data\n",
    "INSERT INTO fact_sales_sahil (product_id, category_id, date_id, quantity, sales_amount, ts) VALUES\n",
    "  (2, 2, 6, 9, 99.0, '2025-06-03 08:00:00'),\n",
    "  (3, 3, 7, 6, 66.0, '2025-06-03 09:30:00');\n",
    "\n",
    "-- Update: Simulate a correction\n",
    "UPDATE fact_sales_sahil\n",
    "SET sales_amount = sales_amount + 10\n",
    "WHERE product_id = 2;\n",
    "\n",
    "-- Optional: Delete a row to create another snapshot\n",
    "DELETE FROM fact_sales_sahil\n",
    "WHERE product_id = 5 AND category_id = 1 AND date_id = 5;\n",
    "\n",
    "-- Check current state\n",
    "SELECT * FROM fact_sales_sahil;"
   ]
  },
  {
   "cell_type": "code",
   "execution_count": 0,
   "metadata": {
    "application/vnd.databricks.v1+cell": {
     "cellMetadata": {
      "byteLimit": 2048000,
      "implicitDf": true,
      "rowLimit": 10000
     },
     "inputWidgets": {},
     "nuid": "d95ad628-7f38-4cee-bbbc-3e0ac5050518",
     "showTitle": false,
     "tableResultSettingsMap": {},
     "title": ""
    }
   },
   "outputs": [],
   "source": [
    "%sql\n",
    "\n",
    "DESCRIBE HISTORY fact_sales_sahil;"
   ]
  },
  {
   "cell_type": "code",
   "execution_count": 0,
   "metadata": {
    "application/vnd.databricks.v1+cell": {
     "cellMetadata": {
      "byteLimit": 2048000,
      "implicitDf": true,
      "rowLimit": 10000
     },
     "inputWidgets": {},
     "nuid": "4615df8e-5860-4a0e-a798-dbd644b35e9f",
     "showTitle": false,
     "tableResultSettingsMap": {},
     "title": ""
    }
   },
   "outputs": [],
   "source": [
    "%sql\n",
    "\n",
    "SELECT * FROM fact_sales_sahil VERSION AS OF 0;\n",
    "\n"
   ]
  },
  {
   "cell_type": "code",
   "execution_count": 0,
   "metadata": {
    "application/vnd.databricks.v1+cell": {
     "cellMetadata": {
      "byteLimit": 2048000,
      "implicitDf": true,
      "rowLimit": 10000
     },
     "inputWidgets": {},
     "nuid": "83775067-98b1-407c-8cc5-91381c14faac",
     "showTitle": false,
     "tableResultSettingsMap": {},
     "title": ""
    }
   },
   "outputs": [],
   "source": [
    "%sql\n",
    "-- Set the history retention period to 30 days\n",
    "ALTER TABLE fact_sales_sahil SET TBLPROPERTIES ('delta.logRetentionDuration' = '30 days');\n",
    "\n",
    "-- Perform some operations on the Delta table\n",
    "INSERT INTO fact_sales_sahil (product_id, category_id, date_id, quantity, sales_amount, ts) VALUES\n",
    "  (6, 3, 8, 10, 100.0, '2025-06-04 10:00:00');\n",
    "\n",
    "UPDATE fact_sales_sahil\n",
    "SET quantity = 20\n",
    "WHERE product_id = 6;\n",
    "\n",
    "DELETE FROM fact_sales_sahil\n",
    "WHERE product_id = 6;\n",
    "\n",
    "-- Check the history of the Delta table\n",
    "DESCRIBE HISTORY fact_sales_sahil;\n",
    "\n",
    "SELECT * FROM fact_sales_sahil VERSION AS OF 1;"
   ]
  },
  {
   "cell_type": "markdown",
   "metadata": {
    "application/vnd.databricks.v1+cell": {
     "cellMetadata": {},
     "inputWidgets": {},
     "nuid": "2adfab8a-db2f-4303-a90b-7206cf9f220a",
     "showTitle": false,
     "tableResultSettingsMap": {},
     "title": ""
    }
   },
   "source": [
    "\n",
    "Optimization in Delta Lake compacts many small files into fewer large files, reducing file fragmentation. This minimizes the overhead of opening and scanning multiple files during queries. As a result, query engines can read data more efficiently, leading to faster query performance and lower resource consumption. Regular optimization ensures that data is organized for optimal access patterns, especially after frequent inserts, updates, or deletes."
   ]
  },
  {
   "cell_type": "code",
   "execution_count": 0,
   "metadata": {
    "application/vnd.databricks.v1+cell": {
     "cellMetadata": {
      "byteLimit": 2048000,
      "implicitDf": true,
      "rowLimit": 10000
     },
     "inputWidgets": {},
     "nuid": "21135bc6-711a-4680-8144-f4fc5bd29753",
     "showTitle": false,
     "tableResultSettingsMap": {},
     "title": ""
    }
   },
   "outputs": [],
   "source": [
    "%sql\n",
    "select count(*) from fact_sales_sahil"
   ]
  },
  {
   "cell_type": "code",
   "execution_count": 0,
   "metadata": {
    "application/vnd.databricks.v1+cell": {
     "cellMetadata": {
      "byteLimit": 2048000,
      "implicitDf": true,
      "rowLimit": 10000
     },
     "inputWidgets": {},
     "nuid": "6067da44-8c59-47d9-856d-cf1fd474ffb9",
     "showTitle": false,
     "tableResultSettingsMap": {},
     "title": ""
    }
   },
   "outputs": [],
   "source": [
    "%sql\n",
    "\n",
    "\n",
    "DELETE FROM fact_sales_sahil WHERE 1=1;\n",
    "\n",
    "-- Check table is empty\n",
    "SELECT COUNT(*) FROM fact_sales_sahil;\n",
    "\n",
    "-- Restore\n",
    "RESTORE TABLE fact_sales_sahil TO VERSION AS OF 1;\n",
    "\n",
    "-- Check data is restored\n",
    "SELECT COUNT(*) FROM fact_sales_sahil;\n",
    "\n"
   ]
  }
 ],
 "metadata": {
  "application/vnd.databricks.v1+notebook": {
   "computePreferences": null,
   "dashboards": [],
   "environmentMetadata": {
    "base_environment": "",
    "environment_version": "2"
   },
   "inputWidgetPreferences": null,
   "language": "python",
   "notebookMetadata": {
    "mostRecentlyExecutedCommandWithImplicitDF": {
     "commandId": 7584223768182662,
     "dataframes": [
      "_sqldf"
     ]
    },
    "pythonIndentUnit": 4
   },
   "notebookName": "Home-Work-2025-06",
   "widgets": {}
  },
  "language_info": {
   "name": "python"
  }
 },
 "nbformat": 4,
 "nbformat_minor": 0
}
