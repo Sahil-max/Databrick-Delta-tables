{
 "cells": [
  {
   "cell_type": "markdown",
   "metadata": {
    "application/vnd.databricks.v1+cell": {
     "cellMetadata": {},
     "inputWidgets": {},
     "nuid": "332e113e-83d0-4fe8-9918-72ac11b2618d",
     "showTitle": false,
     "tableResultSettingsMap": {},
     "title": ""
    }
   },
   "source": [
    "# Lab Manipulate Delta Tables"
   ]
  },
  {
   "cell_type": "markdown",
   "metadata": {
    "application/vnd.databricks.v1+cell": {
     "cellMetadata": {},
     "inputWidgets": {},
     "nuid": "24ea4086-399e-4bbe-9f57-ef64bd7a29b4",
     "showTitle": false,
     "tableResultSettingsMap": {},
     "title": ""
    }
   },
   "source": [
    "Follow the following blog to create \n",
    "\n",
    "https://www.databricks.com/blog/2022/11/07/load-edw-dimensional-model-real-time-databricks-lakehouse.html"
   ]
  },
  {
   "cell_type": "markdown",
   "metadata": {
    "application/vnd.databricks.v1+cell": {
     "cellMetadata": {},
     "inputWidgets": {},
     "nuid": "b7742604-00ee-4106-b1cf-0d1a18bbb678",
     "showTitle": false,
     "tableResultSettingsMap": {},
     "title": ""
    }
   },
   "source": []
  },
  {
   "cell_type": "markdown",
   "metadata": {
    "application/vnd.databricks.v1+cell": {
     "cellMetadata": {},
     "inputWidgets": {},
     "nuid": "b16cecf0-80a2-4746-ba65-54c28ef6774f",
     "showTitle": false,
     "tableResultSettingsMap": {},
     "title": ""
    }
   },
   "source": [
    "# Databricks Advanced Lab: \n",
    "\n",
    "\n",
    "![Databricks Image](https://www.databricks.com/sites/default/files/inline-images/db-388-blog-img-2.png?v=1667403642)\n",
    "\n",
    "\n",
    "## Delta Lakehouse for EDW – Inserts, Updates, Time Travel, Liquid Clustering, Optimization, and Dimensional Modeling\n",
    "\n",
    "## 🎯 Objective\n",
    "\n",
    "In this lab, you will:\n",
    "\n",
    "* Create and modify Delta tables using a **star schema** design\n",
    "* Insert and update **fact and dimension** records\n",
    "* Explore table **version history and time travel**\n",
    "* Apply **Liquid Clustering** using surrogate keys\n",
    "* Optimize Delta tables for **real-time querying**\n",
    "* Simulate **accidental deletions** and learn recovery via **restore**\n",
    "\n",
    "You will **implement each step yourself** by following the blog instructions and applying them in this lab.\n",
    "\n",
    "---\n",
    "\n",
    "## 📋 Instructions\n",
    "\n",
    "---\n",
    "\n",
    "## Part 1: Set Up Your Database and Schema\n",
    "\n",
    "* Use exisiting database (e.g., `tabular.dataexpert`).\n",
    "* Create **dimension tables** such as `dim_product_firstname_lastname`, `dim_category_firstname_lastname`, and `dim_date_firstname_lastname`.\n",
    "* Create a **fact table** named `fact_sales_firstname_lastname` with surrogate keys referencing the dimensions.\n",
    "\n",
    "\n",
    "✅ Verify all tables are empty initially.\n",
    "\n",
    "---\n",
    "\n",
    "## Part 2: Insert Dimension Data\n",
    "\n",
    "* Insert sample records into your dimension tables (`dim_product_firstname_lastname`, `dim_category_firstname_lastname`, `dim_date_firstname_lastname`).\n",
    "* Ensure each dimension has a **surrogate key**.\n",
    "* Populate meaningful attributes like product names, categories, and calendar dates.\n",
    "\n",
    "✅ Query dimensions and verify that surrogate keys are unique and descriptive attributes exist.\n",
    "\n",
    "---\n",
    "\n",
    "## Part 3: Insert Fact Data\n",
    "\n",
    "* Insert **multiple rows** into `fact_sales_firstname_lastname`, joining surrogate keys from dimension tables.\n",
    "* Include transactional metrics like quantity sold, sales amount, and timestamps.\n",
    "* Ensure referential integrity with dimensions.\n",
    "\n",
    "✅ Confirm that fact data references valid dimension keys.\n",
    "\n",
    "---\n",
    "\n",
    "## Part 4: Apply Liquid Clustering\n",
    "\n",
    "* Alter your fact and dimension tables to enable **Liquid Clustering** using `CLUSTER BY`.\n",
    "* Cluster dimensions (e.g., `dim_product_firstname_lastname`) by their surrogate key.\n",
    "* Cluster `fact_sales_firstname_lastname` by the **foreign keys** (e.g., `product_id`, `date_id`) and **timestamp**.\n",
    "\n",
    "✅ After clustering, insert additional records and observe how Delta handles file layout dynamically.\n",
    "\n",
    "---\n",
    "\n",
    "## Part 5: Table Optimization\n",
    "\n",
    "* Run `OPTIMIZE` on both fact and dimension tables.\n",
    "* Focus on the **fact table**, especially after multiple inserts or updates.\n",
    "* Write a short explanation of how optimization reduces file fragmentation and improves query speed.\n",
    "\n",
    "✅ Compare performance (e.g., number of files) before and after `OPTIMIZE`.\n",
    "\n",
    "---\n",
    "\n",
    "## Part 6: Table History and Time Travel\n",
    "\n",
    "* Use `DESCRIBE HISTORY` to explore the version timeline of your `fact_sales_firstname_lastname` table.\n",
    "* Use `VERSION AS OF` or `TIMESTAMP AS OF` to query earlier versions of the table.\n",
    "\n",
    "✅ Record at least one query result from a previous version.\n",
    "\n",
    "---\n",
    "\n",
    "## Part 7: Simulate Deletion and Restore\n",
    "\n",
    "* Simulate an accidental `DELETE` on your fact table.\n",
    "* Use Delta **table restore** from version or timestamp to recover the data.\n",
    "\n",
    "✅ Confirm that data is successfully restored and time travel still works.\n",
    "\n",
    "---\n",
    "\n",
    "## 🧠 Bonus Challenge (Optional)\n",
    "\n",
    "* Insert additional transactions post-restore.\n",
    "* Then revert back using `RESTORE TABLE TO VERSION AS OF` to undo the new changes.\n",
    "\n",
    "✅ Ensure that only the original records remain after the rollback.\n",
    "\n",
    "---\n",
    "\n",
    "## 📦 What to Submit\n",
    "\n",
    "* A zipped SQL files:\n",
    "  - SQL statements for all table creation and inserts\n",
    "  - `DESCRIBE HISTORY` outputs\n",
    "  - Time travel query outputs\n",
    "  - `OPTIMIZE` result comments\n",
    "  - Evidence of successful restore and rollback\n",
    "* A paragraph summarizing the benefits of:\n",
    "  - Using **Liquid Clustering** on surrogate keys\n",
    "  - Running regular **OPTIMIZE** for performance\n",
    "\n",
    "---\n",
    "\n",
    "# 🏆 Skills You Will Build\n",
    "\n",
    "| Skill Area               | Description                                                  |\n",
    "| :----------------------- | :----------------------------------------------------------- |\n",
    "| Delta Table Management   | Create, Insert, Update Delta tables in a star schema         |\n",
    "| Dimensional Modeling     | Apply EDW principles using Lakehouse architecture            |\n",
    "| Time Travel & Versioning | Query Delta tables by version or timestamp                   |\n",
    "| Liquid Clustering        | Dynamically organize tables by keys for scalable performance |\n",
    "| Delta Optimization       | Compact files and improve metadata for efficient queries     |\n",
    "| Table Recovery           | Use `RESTORE` to recover from data loss or corruption        |\n",
    "\n",
    "---\n",
    "\n",
    "✅ **Important Reminder:**\n",
    "Use **SQL syntax only** throughout this lab unless otherwise instructed. Refer to [this blog](https://www.databricks.com/blog/2022/11/07/load-edw-dimensional-model-real-time-databricks-lakehouse.html) for real-time EDW star schema guidance.\n"
   ]
  }
 ],
 "metadata": {
  "application/vnd.databricks.v1+notebook": {
   "computePreferences": null,
   "dashboards": [],
   "environmentMetadata": {
    "base_environment": "",
    "environment_version": "2"
   },
   "inputWidgetPreferences": null,
   "language": "python",
   "notebookMetadata": {
    "pythonIndentUnit": 4
   },
   "notebookName": "Lab - Manipulate Delta Tables",
   "widgets": {}
  },
  "language_info": {
   "name": "python"
  }
 },
 "nbformat": 4,
 "nbformat_minor": 0
}
